{
  "nbformat": 4,
  "nbformat_minor": 0,
  "metadata": {
    "colab": {
      "provenance": [],
      "include_colab_link": true
    },
    "kernelspec": {
      "name": "python3",
      "display_name": "Python 3"
    },
    "language_info": {
      "name": "python"
    }
  },
  "cells": [
    {
      "cell_type": "markdown",
      "metadata": {
        "id": "view-in-github",
        "colab_type": "text"
      },
      "source": [
        "<a href=\"https://colab.research.google.com/github/bmuv/A-random-Repo/blob/master/Assignment3_Spambase.ipynb\" target=\"_parent\"><img src=\"https://colab.research.google.com/assets/colab-badge.svg\" alt=\"Open In Colab\"/></a>"
      ]
    },
    {
      "cell_type": "code",
      "execution_count": null,
      "metadata": {
        "colab": {
          "base_uri": "https://localhost:8080/"
        },
        "id": "nebFWj6C1gWC",
        "outputId": "d458c591-1a47-4d1b-94eb-3b7087601f6d"
      },
      "outputs": [
        {
          "output_type": "stream",
          "name": "stdout",
          "text": [
            "Mounted at /content/drive/\n",
            "/content/drive/My Drive/Colab Notebooks\n"
          ]
        }
      ],
      "source": [
        "!apt-get install openjdk-8-jdk-headless -qq > /dev/null\n",
        "!wget -q https://archive.apache.org/dist/spark/spark-3.2.3/spark-3.2.3-bin-hadoop2.7.tgz\n",
        "!tar xf spark-3.2.3-bin-hadoop2.7.tgz\n",
        "!pip install -q findspark\n",
        "\n",
        "import os\n",
        "os.environ[\"JAVA_HOME\"] = \"/usr/lib/jvm/java-8-openjdk-amd64\"\n",
        "os.environ[\"SPARK_HOME\"] = \"/content/spark-3.2.3-bin-hadoop2.7\"\n",
        "\n",
        "import findspark\n",
        "findspark.init()\n",
        "from pyspark.sql import SparkSession\n",
        "spark = SparkSession.builder.master(\"local[*]\").getOrCreate()\n",
        "sc = spark.sparkContext\n",
        "\n",
        "from google.colab import drive\n",
        "drive.mount('/content/drive/')\n",
        "%cd /content/drive/My Drive/Colab Notebooks/"
      ]
    },
    {
      "cell_type": "code",
      "source": [
        "from pyspark.sql.functions import col, udf, corr, expr\n",
        "import pyspark.sql.functions as F\n",
        "\n",
        "from pyspark.ml.linalg import Vectors, VectorUDT, DenseVector, SparseVector\n",
        "from pyspark.ml import Pipeline\n",
        "from pyspark.sql import Row\n",
        "from pyspark.ml.feature import StringIndexer, VectorAssembler, StandardScaler\n",
        "from pyspark.ml.classification import DecisionTreeClassifier, NaiveBayes, RandomForestClassifier, LogisticRegression, LinearSVC\n",
        "from pyspark.ml.evaluation import BinaryClassificationEvaluator, MulticlassClassificationEvaluator\n",
        "\n",
        "from pyspark.mllib.evaluation import MulticlassMetrics, BinaryClassificationMetrics\n",
        "from pyspark.sql.types import FloatType, DoubleType\n",
        "\n",
        "from pyspark.ml.tuning import ParamGridBuilder, CrossValidator"
      ],
      "metadata": {
        "id": "wx_tjylD1lK6"
      },
      "execution_count": null,
      "outputs": []
    },
    {
      "cell_type": "code",
      "source": [
        "column_names = [\n",
        "    \"word_freq_make\", \"word_freq_address\", \"word_freq_all\", \"word_freq_3d\", \"word_freq_our\",\n",
        "    \"word_freq_over\", \"word_freq_remove\", \"word_freq_internet\", \"word_freq_order\", \"word_freq_mail\",\n",
        "    \"word_freq_receive\", \"word_freq_will\", \"word_freq_people\", \"word_freq_report\", \"word_freq_addresses\",\n",
        "    \"word_freq_free\", \"word_freq_business\", \"word_freq_email\", \"word_freq_you\", \"word_freq_credit\",\n",
        "    \"word_freq_your\", \"word_freq_font\", \"word_freq_000\", \"word_freq_money\", \"word_freq_hp\",\n",
        "    \"word_freq_hpl\", \"word_freq_george\", \"word_freq_650\", \"word_freq_lab\", \"word_freq_labs\",\n",
        "    \"word_freq_telnet\", \"word_freq_857\", \"word_freq_data\", \"word_freq_415\", \"word_freq_85\",\n",
        "    \"word_freq_technology\", \"word_freq_1999\", \"word_freq_parts\", \"word_freq_pm\", \"word_freq_direct\",\n",
        "    \"word_freq_cs\", \"word_freq_meeting\", \"word_freq_original\", \"word_freq_project\", \"word_freq_re\",\n",
        "    \"word_freq_edu\", \"word_freq_table\", \"word_freq_conference\", \"char_freq_;\", \"char_freq_(\",\n",
        "    \"char_freq_[\", \"char_freq_!\", \"char_freq_$\", \"char_freq_#\", \"capital_run_length_average\",\n",
        "    \"capital_run_length_longest\", \"capital_run_length_total\", \"is_spam\"\n",
        "]\n",
        "\n",
        "data_path = \"/content/drive/My Drive/Colab Notebooks/spambase.data\"\n",
        "df = spark.read.csv(data_path, inferSchema=True).toDF(*column_names)\n",
        "\n",
        "df.show(5)\n"
      ],
      "metadata": {
        "colab": {
          "base_uri": "https://localhost:8080/"
        },
        "id": "LzMSnBIJ1lNk",
        "outputId": "397d12d5-d0c0-4309-93d7-0d62bb8bbe1f"
      },
      "execution_count": null,
      "outputs": [
        {
          "output_type": "stream",
          "name": "stdout",
          "text": [
            "+--------------+-----------------+-------------+------------+-------------+--------------+----------------+------------------+---------------+--------------+-----------------+--------------+----------------+----------------+-------------------+--------------+------------------+---------------+-------------+----------------+--------------+--------------+-------------+---------------+------------+-------------+----------------+-------------+-------------+--------------+----------------+-------------+--------------+-------------+------------+--------------------+--------------+---------------+------------+----------------+------------+-----------------+------------------+-----------------+------------+-------------+---------------+--------------------+-----------+-----------+-----------+-----------+-----------+-----------+--------------------------+--------------------------+------------------------+-------+\n",
            "|word_freq_make|word_freq_address|word_freq_all|word_freq_3d|word_freq_our|word_freq_over|word_freq_remove|word_freq_internet|word_freq_order|word_freq_mail|word_freq_receive|word_freq_will|word_freq_people|word_freq_report|word_freq_addresses|word_freq_free|word_freq_business|word_freq_email|word_freq_you|word_freq_credit|word_freq_your|word_freq_font|word_freq_000|word_freq_money|word_freq_hp|word_freq_hpl|word_freq_george|word_freq_650|word_freq_lab|word_freq_labs|word_freq_telnet|word_freq_857|word_freq_data|word_freq_415|word_freq_85|word_freq_technology|word_freq_1999|word_freq_parts|word_freq_pm|word_freq_direct|word_freq_cs|word_freq_meeting|word_freq_original|word_freq_project|word_freq_re|word_freq_edu|word_freq_table|word_freq_conference|char_freq_;|char_freq_(|char_freq_[|char_freq_!|char_freq_$|char_freq_#|capital_run_length_average|capital_run_length_longest|capital_run_length_total|is_spam|\n",
            "+--------------+-----------------+-------------+------------+-------------+--------------+----------------+------------------+---------------+--------------+-----------------+--------------+----------------+----------------+-------------------+--------------+------------------+---------------+-------------+----------------+--------------+--------------+-------------+---------------+------------+-------------+----------------+-------------+-------------+--------------+----------------+-------------+--------------+-------------+------------+--------------------+--------------+---------------+------------+----------------+------------+-----------------+------------------+-----------------+------------+-------------+---------------+--------------------+-----------+-----------+-----------+-----------+-----------+-----------+--------------------------+--------------------------+------------------------+-------+\n",
            "|           0.0|             0.64|         0.64|         0.0|         0.32|           0.0|             0.0|               0.0|            0.0|           0.0|              0.0|          0.64|             0.0|             0.0|                0.0|          0.32|               0.0|           1.29|         1.93|             0.0|          0.96|           0.0|          0.0|            0.0|         0.0|          0.0|             0.0|          0.0|          0.0|           0.0|             0.0|          0.0|           0.0|          0.0|         0.0|                 0.0|           0.0|            0.0|         0.0|             0.0|         0.0|              0.0|               0.0|              0.0|         0.0|          0.0|            0.0|                 0.0|        0.0|        0.0|        0.0|      0.778|        0.0|        0.0|                     3.756|                        61|                     278|      1|\n",
            "|          0.21|             0.28|          0.5|         0.0|         0.14|          0.28|            0.21|              0.07|            0.0|          0.94|             0.21|          0.79|            0.65|            0.21|               0.14|          0.14|              0.07|           0.28|         3.47|             0.0|          1.59|           0.0|         0.43|           0.43|         0.0|          0.0|             0.0|          0.0|          0.0|           0.0|             0.0|          0.0|           0.0|          0.0|         0.0|                 0.0|          0.07|            0.0|         0.0|             0.0|         0.0|              0.0|               0.0|              0.0|         0.0|          0.0|            0.0|                 0.0|        0.0|      0.132|        0.0|      0.372|       0.18|      0.048|                     5.114|                       101|                    1028|      1|\n",
            "|          0.06|              0.0|         0.71|         0.0|         1.23|          0.19|            0.19|              0.12|           0.64|          0.25|             0.38|          0.45|            0.12|             0.0|               1.75|          0.06|              0.06|           1.03|         1.36|            0.32|          0.51|           0.0|         1.16|           0.06|         0.0|          0.0|             0.0|          0.0|          0.0|           0.0|             0.0|          0.0|           0.0|          0.0|         0.0|                 0.0|           0.0|            0.0|         0.0|            0.06|         0.0|              0.0|              0.12|              0.0|        0.06|         0.06|            0.0|                 0.0|       0.01|      0.143|        0.0|      0.276|      0.184|       0.01|                     9.821|                       485|                    2259|      1|\n",
            "|           0.0|              0.0|          0.0|         0.0|         0.63|           0.0|            0.31|              0.63|           0.31|          0.63|             0.31|          0.31|            0.31|             0.0|                0.0|          0.31|               0.0|            0.0|         3.18|             0.0|          0.31|           0.0|          0.0|            0.0|         0.0|          0.0|             0.0|          0.0|          0.0|           0.0|             0.0|          0.0|           0.0|          0.0|         0.0|                 0.0|           0.0|            0.0|         0.0|             0.0|         0.0|              0.0|               0.0|              0.0|         0.0|          0.0|            0.0|                 0.0|        0.0|      0.137|        0.0|      0.137|        0.0|        0.0|                     3.537|                        40|                     191|      1|\n",
            "|           0.0|              0.0|          0.0|         0.0|         0.63|           0.0|            0.31|              0.63|           0.31|          0.63|             0.31|          0.31|            0.31|             0.0|                0.0|          0.31|               0.0|            0.0|         3.18|             0.0|          0.31|           0.0|          0.0|            0.0|         0.0|          0.0|             0.0|          0.0|          0.0|           0.0|             0.0|          0.0|           0.0|          0.0|         0.0|                 0.0|           0.0|            0.0|         0.0|             0.0|         0.0|              0.0|               0.0|              0.0|         0.0|          0.0|            0.0|                 0.0|        0.0|      0.135|        0.0|      0.135|        0.0|        0.0|                     3.537|                        40|                     191|      1|\n",
            "+--------------+-----------------+-------------+------------+-------------+--------------+----------------+------------------+---------------+--------------+-----------------+--------------+----------------+----------------+-------------------+--------------+------------------+---------------+-------------+----------------+--------------+--------------+-------------+---------------+------------+-------------+----------------+-------------+-------------+--------------+----------------+-------------+--------------+-------------+------------+--------------------+--------------+---------------+------------+----------------+------------+-----------------+------------------+-----------------+------------+-------------+---------------+--------------------+-----------+-----------+-----------+-----------+-----------+-----------+--------------------------+--------------------------+------------------------+-------+\n",
            "only showing top 5 rows\n",
            "\n"
          ]
        }
      ]
    },
    {
      "cell_type": "code",
      "source": [],
      "metadata": {
        "id": "fT1uPE0m4XgT"
      },
      "execution_count": null,
      "outputs": []
    },
    {
      "cell_type": "markdown",
      "source": [
        "# CORRELATION ANALYSIS"
      ],
      "metadata": {
        "id": "q4M4-23W4iKO"
      }
    },
    {
      "cell_type": "code",
      "source": [
        "df_pd = df.toPandas()\n",
        "df_pd.corr()['is_spam'].sort_values().plot(kind='bar', figsize=(18, 6))"
      ],
      "metadata": {
        "colab": {
          "base_uri": "https://localhost:8080/",
          "height": 719
        },
        "id": "v-mNu1JJiJFT",
        "outputId": "edd9f979-fa17-4af6-f116-3b44df98863c"
      },
      "execution_count": null,
      "outputs": [
        {
          "output_type": "execute_result",
          "data": {
            "text/plain": [
              "<Axes: >"
            ]
          },
          "metadata": {},
          "execution_count": 21
        },
        {
          "output_type": "display_data",
          "data": {
            "text/plain": [
              "<Figure size 1800x600 with 1 Axes>"
            ],
            "image/png": "[encoded data removed]"
          },
          "metadata": {}
        }
      ]
    },
    {
      "cell_type": "code",
      "source": [
        "input_columns = df.columns[:-1]\n",
        "\n",
        "correlations = {}\n",
        "\n",
        "for feature_name in input_columns:\n",
        "    correlation = df.stat.corr(feature_name, \"is_spam\")\n",
        "    print(f\"Correlation between {feature_name} and is_spam: {correlation}\")\n",
        "    correlations[feature_name] = correlation\n",
        "\n",
        "selected_features = [feature for feature, corr in correlations.items() if abs(corr) >= 0.1]\n",
        "\n",
        "print(\"Selected features based on correlation >= 0.2 (absolute value):\")\n",
        "print(selected_features)\n",
        "\n",
        "selected_columns = selected_features + [\"is_spam\"]\n",
        "selected_data = df.select(*selected_columns)\n",
        "\n"
      ],
      "metadata": {
        "colab": {
          "base_uri": "https://localhost:8080/"
        },
        "id": "iuHr_aY4iJIH",
        "outputId": "63a26f5a-7aab-479f-8114-e0c125dc4c7b"
      },
      "execution_count": null,
      "outputs": [
        {
          "output_type": "stream",
          "name": "stdout",
          "text": [
            "Correlation between word_freq_make and is_spam: 0.1262075747276301\n",
            "Correlation between word_freq_address and is_spam: -0.030223579212025984\n",
            "Correlation between word_freq_all and is_spam: 0.19698797268316062\n",
            "Correlation between word_freq_3d and is_spam: 0.05737138961859557\n",
            "Correlation between word_freq_our and is_spam: 0.2419204377148721\n",
            "Correlation between word_freq_over and is_spam: 0.23260430017220934\n",
            "Correlation between word_freq_remove and is_spam: 0.3321174156141383\n",
            "Correlation between word_freq_internet and is_spam: 0.2068084757616911\n",
            "Correlation between word_freq_order and is_spam: 0.23155143128603223\n",
            "Correlation between word_freq_mail and is_spam: 0.13896211329516528\n",
            "Correlation between word_freq_receive and is_spam: 0.23452927138247492\n",
            "Correlation between word_freq_will and is_spam: 0.007740737297957517\n",
            "Correlation between word_freq_people and is_spam: 0.13292672586848697\n",
            "Correlation between word_freq_report and is_spam: 0.060027316399875005\n",
            "Correlation between word_freq_addresses and is_spam: 0.19590245671260012\n",
            "Correlation between word_freq_free and is_spam: 0.2632146990367231\n",
            "Correlation between word_freq_business and is_spam: 0.2632039828223735\n",
            "Correlation between word_freq_email and is_spam: 0.20420813879714766\n",
            "Correlation between word_freq_you and is_spam: 0.2736512865572286\n",
            "Correlation between word_freq_credit and is_spam: 0.1897611485080488\n",
            "Correlation between word_freq_your and is_spam: 0.38323381928361144\n",
            "Correlation between word_freq_font and is_spam: 0.09186009631516916\n",
            "Correlation between word_freq_000 and is_spam: 0.33478703884574484\n",
            "Correlation between word_freq_money and is_spam: 0.2161109822472464\n",
            "Correlation between word_freq_hp and is_spam: -0.2567229163126659\n",
            "Correlation between word_freq_hpl and is_spam: -0.23296768680665098\n",
            "Correlation between word_freq_george and is_spam: -0.18340400519338357\n",
            "Correlation between word_freq_650 and is_spam: -0.1588002491183146\n",
            "Correlation between word_freq_lab and is_spam: -0.13352318779633526\n",
            "Correlation between word_freq_labs and is_spam: -0.17109458754709256\n",
            "Correlation between word_freq_telnet and is_spam: -0.12691215770486788\n",
            "Correlation between word_freq_857 and is_spam: -0.11421403277162051\n",
            "Correlation between word_freq_data and is_spam: -0.11993101263694386\n",
            "Correlation between word_freq_415 and is_spam: -0.11275418527473757\n",
            "Correlation between word_freq_85 and is_spam: -0.14922521446055503\n",
            "Correlation between word_freq_technology and is_spam: -0.13613420484604244\n",
            "Correlation between word_freq_1999 and is_spam: -0.17804545978118438\n",
            "Correlation between word_freq_parts and is_spam: -0.031035289412299053\n",
            "Correlation between word_freq_pm and is_spam: -0.12283065400904151\n",
            "Correlation between word_freq_direct and is_spam: -0.06480120227696283\n",
            "Correlation between word_freq_cs and is_spam: -0.0973748320834085\n",
            "Correlation between word_freq_meeting and is_spam: -0.13661537156641304\n",
            "Correlation between word_freq_original and is_spam: -0.13566428089524601\n",
            "Correlation between word_freq_project and is_spam: -0.09459404198219638\n",
            "Correlation between word_freq_re and is_spam: -0.14040846452155753\n",
            "Correlation between word_freq_edu and is_spam: -0.14613818606426704\n",
            "Correlation between word_freq_table and is_spam: -0.0446785630848129\n",
            "Correlation between word_freq_conference and is_spam: -0.08401980167056788\n",
            "Correlation between char_freq_; and is_spam: -0.059629666896964764\n",
            "Correlation between char_freq_( and is_spam: -0.08967198136960633\n",
            "Correlation between char_freq_[ and is_spam: -0.06470933654509176\n",
            "Correlation between char_freq_! and is_spam: 0.24188836701125638\n",
            "Correlation between char_freq_$ and is_spam: 0.3236288064980569\n",
            "Correlation between char_freq_# and is_spam: 0.0650667285383687\n",
            "Correlation between capital_run_length_average and is_spam: 0.10999914323016526\n",
            "Correlation between capital_run_length_longest and is_spam: 0.2160966940693682\n",
            "Correlation between capital_run_length_total and is_spam: 0.24916412436335672\n",
            "Selected features based on correlation >= 0.2 (absolute value):\n",
            "['word_freq_make', 'word_freq_all', 'word_freq_our', 'word_freq_over', 'word_freq_remove', 'word_freq_internet', 'word_freq_order', 'word_freq_mail', 'word_freq_receive', 'word_freq_people', 'word_freq_addresses', 'word_freq_free', 'word_freq_business', 'word_freq_email', 'word_freq_you', 'word_freq_credit', 'word_freq_your', 'word_freq_000', 'word_freq_money', 'word_freq_hp', 'word_freq_hpl', 'word_freq_george', 'word_freq_650', 'word_freq_lab', 'word_freq_labs', 'word_freq_telnet', 'word_freq_857', 'word_freq_data', 'word_freq_415', 'word_freq_85', 'word_freq_technology', 'word_freq_1999', 'word_freq_pm', 'word_freq_meeting', 'word_freq_original', 'word_freq_re', 'word_freq_edu', 'char_freq_!', 'char_freq_$', 'capital_run_length_average', 'capital_run_length_longest', 'capital_run_length_total']\n"
          ]
        }
      ]
    },
    {
      "cell_type": "markdown",
      "source": [
        "# FEATURE SELECTION"
      ],
      "metadata": {
        "id": "mymifNB87z4L"
      }
    },
    {
      "cell_type": "code",
      "source": [
        "# Adding the target column 'is_spam' to the list of columns to select\n",
        "# selected_columns = selected_features + [\"is_spam\"]\n",
        "\n",
        "\n",
        "#These are from random forest important features...\n",
        "selected_features = ['char_freq_!', 'word_freq_remove', 'char_freq_$', 'word_freq_hp', 'capital_run_length_average', 'word_freq_free', 'word_freq_your', 'capital_run_length_total', 'word_freq_money', 'word_freq_000', 'capital_run_length_longest', 'word_freq_you', 'word_freq_all', 'word_freq_george', 'word_freq_1999', 'word_freq_hpl', 'word_freq_our', 'word_freq_edu', 'word_freq_internet', 'word_freq_business', 'word_freq_over', 'word_freq_85', 'word_freq_650', 'word_freq_labs', 'word_freq_re']\n",
        "\n",
        "selected_columns =  selected_features + [\"is_spam\"]\n",
        "\n",
        "selected_data = df.select(*selected_columns)\n",
        "\n",
        "print(len(selected_data.columns))\n",
        "\n",
        "selected_data.show(5)"
      ],
      "metadata": {
        "colab": {
          "base_uri": "https://localhost:8080/"
        },
        "id": "gwTWnXihiJLM",
        "outputId": "e25bd7b5-7cf1-4829-f458-90ac54ac3990"
      },
      "execution_count": null,
      "outputs": [
        {
          "output_type": "stream",
          "name": "stdout",
          "text": [
            "26\n",
            "+-----------+----------------+-----------+------------+--------------------------+--------------+--------------+------------------------+---------------+-------------+--------------------------+-------------+-------------+----------------+--------------+-------------+-------------+-------------+------------------+------------------+--------------+------------+-------------+--------------+------------+-------+\n",
            "|char_freq_!|word_freq_remove|char_freq_$|word_freq_hp|capital_run_length_average|word_freq_free|word_freq_your|capital_run_length_total|word_freq_money|word_freq_000|capital_run_length_longest|word_freq_you|word_freq_all|word_freq_george|word_freq_1999|word_freq_hpl|word_freq_our|word_freq_edu|word_freq_internet|word_freq_business|word_freq_over|word_freq_85|word_freq_650|word_freq_labs|word_freq_re|is_spam|\n",
            "+-----------+----------------+-----------+------------+--------------------------+--------------+--------------+------------------------+---------------+-------------+--------------------------+-------------+-------------+----------------+--------------+-------------+-------------+-------------+------------------+------------------+--------------+------------+-------------+--------------+------------+-------+\n",
            "|      0.778|             0.0|        0.0|         0.0|                     3.756|          0.32|          0.96|                     278|            0.0|          0.0|                        61|         1.93|         0.64|             0.0|           0.0|          0.0|         0.32|          0.0|               0.0|               0.0|           0.0|         0.0|          0.0|           0.0|         0.0|      1|\n",
            "|      0.372|            0.21|       0.18|         0.0|                     5.114|          0.14|          1.59|                    1028|           0.43|         0.43|                       101|         3.47|          0.5|             0.0|          0.07|          0.0|         0.14|          0.0|              0.07|              0.07|          0.28|         0.0|          0.0|           0.0|         0.0|      1|\n",
            "|      0.276|            0.19|      0.184|         0.0|                     9.821|          0.06|          0.51|                    2259|           0.06|         1.16|                       485|         1.36|         0.71|             0.0|           0.0|          0.0|         1.23|         0.06|              0.12|              0.06|          0.19|         0.0|          0.0|           0.0|        0.06|      1|\n",
            "|      0.137|            0.31|        0.0|         0.0|                     3.537|          0.31|          0.31|                     191|            0.0|          0.0|                        40|         3.18|          0.0|             0.0|           0.0|          0.0|         0.63|          0.0|              0.63|               0.0|           0.0|         0.0|          0.0|           0.0|         0.0|      1|\n",
            "|      0.135|            0.31|        0.0|         0.0|                     3.537|          0.31|          0.31|                     191|            0.0|          0.0|                        40|         3.18|          0.0|             0.0|           0.0|          0.0|         0.63|          0.0|              0.63|               0.0|           0.0|         0.0|          0.0|           0.0|         0.0|      1|\n",
            "+-----------+----------------+-----------+------------+--------------------------+--------------+--------------+------------------------+---------------+-------------+--------------------------+-------------+-------------+----------------+--------------+-------------+-------------+-------------+------------------+------------------+--------------+------------+-------------+--------------+------------+-------+\n",
            "only showing top 5 rows\n",
            "\n"
          ]
        }
      ]
    },
    {
      "cell_type": "code",
      "source": [],
      "metadata": {
        "id": "MYyR7XCTiCpo"
      },
      "execution_count": null,
      "outputs": []
    },
    {
      "cell_type": "markdown",
      "source": [
        "# SCALING"
      ],
      "metadata": {
        "id": "GbEyihhV8CQp"
      }
    },
    {
      "cell_type": "code",
      "source": [
        "# # Assemble features\n",
        "# assembler = VectorAssembler(inputCols=df.columns[:-1], outputCol=\"features\")\n",
        "# data = assembler.transform(df.withColumnRenamed(\"label\", \"is_spam\"))  # Rename if your DataFrame hasn't this column named as \"is_spam\"\n",
        "\n",
        "# # Split the data\n",
        "# (train_data, test_data) = data.randomSplit([0.8, 0.2])\n",
        "\n",
        "\n",
        "#========================\n",
        "\n",
        "\n",
        "# # Assemble features\n",
        "# assembler = VectorAssembler(inputCols=df.columns[:-1], outputCol=\"unscaled_features\")\n",
        "# assembled_data = assembler.transform(df.withColumnRenamed(\"label\", \"is_spam\"))  # Rename if your DataFrame hasn't this column named as \"is_spam\"\n",
        "\n",
        "# # Scale the assembled features\n",
        "# scaler = StandardScaler(inputCol=\"unscaled_features\", outputCol=\"features\", withStd=True, withMean=False)\n",
        "# scalerModel = scaler.fit(assembled_data)\n",
        "# scaled_data = scalerModel.transform(assembled_data)\n",
        "\n",
        "# # Now you can split the scaled data\n",
        "# (train_data, test_data) = scaled_data.randomSplit([0.8, 0.2])\n",
        "\n",
        "\n",
        "# ===============================\n",
        "\n",
        "# Assemble features\n",
        "assembler = VectorAssembler(inputCols=selected_data.columns[:-1], outputCol=\"unscaled_features\")\n",
        "assembled_data = assembler.transform(selected_data.withColumnRenamed(\"label\", \"is_spam\"))  # Rename if your DataFrame hasn't this column named as \"is_spam\"\n",
        "\n",
        "# Scale the assembled features\n",
        "scaler = StandardScaler(inputCol=\"unscaled_features\", outputCol=\"features\", withStd=True, withMean=False)\n",
        "scalerModel = scaler.fit(assembled_data)\n",
        "scaled_data = scalerModel.transform(assembled_data)\n",
        "\n",
        "(train_data, test_data) = scaled_data.randomSplit([0.8, 0.2])\n",
        "\n"
      ],
      "metadata": {
        "id": "NXtGllWb1lVK"
      },
      "execution_count": null,
      "outputs": []
    },
    {
      "cell_type": "code",
      "source": [],
      "metadata": {
        "id": "dqZwTqVp8GRq"
      },
      "execution_count": null,
      "outputs": []
    },
    {
      "cell_type": "markdown",
      "source": [
        "# EVALUATING MODEL - Function"
      ],
      "metadata": {
        "id": "tg87H1MG8LJW"
      }
    },
    {
      "cell_type": "code",
      "source": [
        "# Define a UDF to convert the probability column to rawPrediction format\n",
        "to_raw_prediction_udf = udf(lambda prob: Vectors.dense([1.0 - prob[1], prob[1]]), VectorUDT())\n",
        "\n",
        "\n",
        "\n",
        "# def evaluate_model(predictions):\n",
        "#     # Ensure the DataFrame includes a 'probability' column and transform it to 'rawPrediction'\n",
        "#     if 'probability' in predictions.columns:\n",
        "#         predictions = predictions.withColumn(\"rawPrediction\", to_raw_prediction_udf(col(\"probability\")))\n",
        "\n",
        "#     # Convert to RDD format for evaluation using MulticlassMetrics\n",
        "#     predictionAndLabels = predictions.select(\"prediction\", \"is_spam\").rdd.map(lambda p: (float(p[0]), float(p[1])))\n",
        "#     metrics = MulticlassMetrics(predictionAndLabels)\n",
        "\n",
        "#     # Compute standard classification metrics\n",
        "#     confusionMatrix = metrics.confusionMatrix().toArray()\n",
        "#     precision = metrics.precision(1.0)\n",
        "#     recall = metrics.recall(1.0)\n",
        "#     f1Score = metrics.fMeasure(1.0)\n",
        "#     accuracy = metrics.accuracy\n",
        "\n",
        "#     print(f\"Accuracy: {accuracy}\")\n",
        "#     print(\"Confusion Matrix:\")\n",
        "#     print(confusionMatrix)\n",
        "#     print(f\"Precision: {precision}\")\n",
        "#     print(f\"Recall: {recall}\")\n",
        "#     print(f\"F1 Score: {f1Score}\")\n",
        "\n",
        "\n",
        "#     # Compute AUC ROC using BinaryClassificationEvaluator\n",
        "#     # This requires the 'rawPrediction' column in the expected format\n",
        "#     if 'rawPrediction' in predictions.columns:\n",
        "#         binary_evaluator = BinaryClassificationEvaluator(labelCol=\"is_spam\", rawPredictionCol=\"rawPrediction\", metricName=\"areaUnderROC\")\n",
        "#         auc_roc = binary_evaluator.evaluate(predictions)\n",
        "#         print(f\"AUC ROC: {auc_roc}\")\n",
        "#     else:\n",
        "#         print(\"AUC ROC: Unable to compute without 'rawPrediction' or 'probability' column.\")\n",
        "\n",
        "\n",
        "def evaluate_model(predictions, cost_fp=10, cost_fn=1):\n",
        "    \"\"\"\n",
        "    Evaluate the model with additional Total Misclassification Cost.\n",
        "\n",
        "    Parameters:\n",
        "    - predictions: DataFrame containing 'prediction', 'is_spam', and 'probability' columns\n",
        "    - cost_fp: The cost of a false positive\n",
        "    - cost_fn: The cost of a false negative\n",
        "    \"\"\"\n",
        "    # Ensure the DataFrame includes a 'probability' column and transform it to 'rawPrediction'\n",
        "    if 'probability' in predictions.columns:\n",
        "        to_raw_prediction_udf = udf(lambda prob: Vectors.dense([1.0 - prob[1], prob[1]]), VectorUDT())\n",
        "        predictions = predictions.withColumn(\"rawPrediction\", to_raw_prediction_udf(col(\"probability\")))\n",
        "\n",
        "    # Convert to RDD format for evaluation using MulticlassMetrics\n",
        "    predictionAndLabels = predictions.select(\"prediction\", \"is_spam\").rdd.map(lambda p: (float(p[0]), float(p[1])))\n",
        "    metrics = MulticlassMetrics(predictionAndLabels)\n",
        "\n",
        "    # Compute standard classification metrics\n",
        "    confusionMatrix = metrics.confusionMatrix().toArray()\n",
        "    TP = confusionMatrix[1, 1]\n",
        "    TN = confusionMatrix[0, 0]\n",
        "    FP = confusionMatrix[0, 1]\n",
        "    FN = confusionMatrix[1, 0]\n",
        "\n",
        "    precision = metrics.precision(1.0)\n",
        "    recall = metrics.recall(1.0)\n",
        "    f1Score = metrics.fMeasure(1.0)\n",
        "    accuracy = metrics.accuracy\n",
        "\n",
        "    # Calculate Total Misclassification Cost\n",
        "    total_cost = (cost_fp * FP) + (cost_fn * FN)\n",
        "\n",
        "    # Print metrics\n",
        "    print(f\"Accuracy: {accuracy}\")\n",
        "    print(\"Confusion Matrix:\")\n",
        "    print(confusionMatrix)\n",
        "    print(f\"Precision: {precision}\")\n",
        "    print(f\"Recall: {recall}\")\n",
        "    print(f\"F1 Score: {f1Score}\")\n",
        "    print(f\"Total Misclassification Cost: {total_cost}\")\n",
        "\n",
        "    # Compute AUC ROC using BinaryClassificationEvaluator, if possible\n",
        "    if 'rawPrediction' in predictions.columns:\n",
        "        binary_evaluator = BinaryClassificationEvaluator(labelCol=\"is_spam\", rawPredictionCol=\"rawPrediction\", metricName=\"areaUnderROC\")\n",
        "        auc_roc = binary_evaluator.evaluate(predictions)\n",
        "        print(f\"AUC ROC: {auc_roc}\")\n",
        "    else:\n",
        "        print(\"AUC ROC: Unable to compute without 'rawPrediction' or 'probability' column.\")\n"
      ],
      "metadata": {
        "id": "ElX5z10A1lXm"
      },
      "execution_count": null,
      "outputs": []
    },
    {
      "cell_type": "markdown",
      "source": [
        "# DT Model"
      ],
      "metadata": {
        "id": "wBvwG9C48VUm"
      }
    },
    {
      "cell_type": "code",
      "source": [
        "dt_classifier = DecisionTreeClassifier(labelCol=\"is_spam\", featuresCol=\"features\")\n",
        "dt_model = dt_classifier.fit(train_data)\n",
        "dt_predictions = dt_model.transform(test_data)\n",
        "\n",
        "print(\"Decision Tree Classifier:\")\n",
        "\n",
        "evaluate_model(dt_predictions)"
      ],
      "metadata": {
        "colab": {
          "base_uri": "https://localhost:8080/"
        },
        "id": "Sp1PgTD9EG5-",
        "outputId": "7426e16f-c650-4097-809a-793a6c2a8a7a"
      },
      "execution_count": null,
      "outputs": [
        {
          "output_type": "stream",
          "name": "stdout",
          "text": [
            "Decision Tree Classifier:\n"
          ]
        },
        {
          "output_type": "stream",
          "name": "stderr",
          "text": [
            "/content/spark-3.2.3-bin-hadoop2.7/python/pyspark/sql/context.py:125: FutureWarning: Deprecated in 3.0.0. Use SparkSession.builder.getOrCreate() instead.\n",
            "  warnings.warn(\n"
          ]
        },
        {
          "output_type": "stream",
          "name": "stdout",
          "text": [
            "Accuracy: 0.9061135371179039\n",
            "Confusion Matrix:\n",
            "[[521.  28.]\n",
            " [ 58. 309.]]\n",
            "Precision: 0.9169139465875371\n",
            "Recall: 0.8419618528610354\n",
            "F1 Score: 0.8778409090909092\n",
            "Total Misclassification Cost: 338.0\n",
            "AUC ROC: 0.923154807105314\n"
          ]
        }
      ]
    },
    {
      "cell_type": "code",
      "source": [],
      "metadata": {
        "id": "pePpTYR68hh7"
      },
      "execution_count": null,
      "outputs": []
    },
    {
      "cell_type": "markdown",
      "source": [
        "# NAIVE BAYES Model"
      ],
      "metadata": {
        "id": "dN8PwEgT8iRn"
      }
    },
    {
      "cell_type": "code",
      "source": [],
      "metadata": {
        "id": "7tAXFdmGEI31"
      },
      "execution_count": null,
      "outputs": []
    },
    {
      "cell_type": "code",
      "source": [
        "\n",
        "nb_classifier = NaiveBayes(labelCol=\"is_spam\", featuresCol=\"features\")\n",
        "nb_model = nb_classifier.fit(train_data)\n",
        "nb_predictions = nb_model.transform(test_data)\n",
        "\n",
        "print(\"Naive Bayes Classifier:\")\n",
        "evaluate_model(nb_predictions)\n"
      ],
      "metadata": {
        "colab": {
          "base_uri": "https://localhost:8080/"
        },
        "id": "u6wObVeHB3gd",
        "outputId": "2cf473aa-b805-4f33-8e5d-d8915b599d08"
      },
      "execution_count": null,
      "outputs": [
        {
          "output_type": "stream",
          "name": "stdout",
          "text": [
            "Naive Bayes Classifier:\n",
            "Accuracy: 0.8679039301310044\n",
            "Confusion Matrix:\n",
            "[[439. 110.]\n",
            " [ 11. 356.]]\n",
            "Precision: 0.7639484978540773\n",
            "Recall: 0.9700272479564033\n",
            "F1 Score: 0.8547418967587035\n",
            "Total Misclassification Cost: 1111.0\n",
            "AUC ROC: 0.9661162480209226\n"
          ]
        }
      ]
    },
    {
      "cell_type": "code",
      "source": [],
      "metadata": {
        "id": "Y8wbR8Ds8sWI"
      },
      "execution_count": null,
      "outputs": []
    },
    {
      "cell_type": "markdown",
      "source": [
        "# SVM Model"
      ],
      "metadata": {
        "id": "Wl3scatN8s5m"
      }
    },
    {
      "cell_type": "code",
      "source": [
        "svm_classifier = LinearSVC(labelCol=\"is_spam\", featuresCol=\"features\")\n",
        "\n",
        "svm_model = svm_classifier.fit(train_data)\n",
        "\n",
        "svm_predictions = svm_model.transform(test_data)\n",
        "\n",
        "print(\"SVM Classifier\")\n",
        "\n",
        "evaluate_model(svm_predictions)"
      ],
      "metadata": {
        "colab": {
          "base_uri": "https://localhost:8080/"
        },
        "id": "ncOOgo9iELei",
        "outputId": "b23ee922-084e-490d-80fd-3d90b89dc06c"
      },
      "execution_count": null,
      "outputs": [
        {
          "output_type": "stream",
          "name": "stdout",
          "text": [
            "SVM Classifier\n",
            "Accuracy: 0.9213973799126638\n",
            "Confusion Matrix:\n",
            "[[516.  33.]\n",
            " [ 39. 328.]]\n",
            "Precision: 0.9085872576177285\n",
            "Recall: 0.8937329700272479\n",
            "F1 Score: 0.901098901098901\n",
            "Total Misclassification Cost: 369.0\n",
            "AUC ROC: 0.968131306363315\n"
          ]
        }
      ]
    },
    {
      "cell_type": "markdown",
      "source": [
        "# LR Model"
      ],
      "metadata": {
        "id": "DY8RlMwD88sr"
      }
    },
    {
      "cell_type": "code",
      "source": [
        "lr_classifier = LogisticRegression(labelCol=\"is_spam\", featuresCol=\"features\")\n",
        "lr_model = lr_classifier.fit(train_data)\n",
        "lr_predictions = lr_model.transform(test_data)\n",
        "\n",
        "print(\"Logistic Regression Classifier\")\n",
        "\n",
        "evaluate_model(lr_predictions)"
      ],
      "metadata": {
        "colab": {
          "base_uri": "https://localhost:8080/"
        },
        "id": "X2tjOeM1B3jK",
        "outputId": "57fe748c-383c-451a-e2d3-d72f01894bab"
      },
      "execution_count": null,
      "outputs": [
        {
          "output_type": "stream",
          "name": "stdout",
          "text": [
            "Logistic Regression Classifier\n",
            "Accuracy: 0.9148471615720524\n",
            "Confusion Matrix:\n",
            "[[511.  38.]\n",
            " [ 40. 327.]]\n",
            "Precision: 0.8958904109589041\n",
            "Recall: 0.8910081743869209\n",
            "F1 Score: 0.8934426229508197\n",
            "Total Misclassification Cost: 420.0\n",
            "AUC ROC: 0.9685333253922145\n"
          ]
        }
      ]
    },
    {
      "cell_type": "markdown",
      "source": [
        "# FR Model"
      ],
      "metadata": {
        "id": "uvby88779AgI"
      }
    },
    {
      "cell_type": "code",
      "source": [
        "rf_classifier = RandomForestClassifier(labelCol=\"is_spam\", featuresCol=\"features\")\n",
        "rf_model = rf_classifier.fit(train_data)\n",
        "rf_predictions = rf_model.transform(test_data)\n",
        "\n",
        "print(\"Random Forest Classifier\")\n",
        "\n",
        "evaluate_model(rf_predictions)"
      ],
      "metadata": {
        "colab": {
          "base_uri": "https://localhost:8080/"
        },
        "id": "q3fYJKcHB3mU",
        "outputId": "22bc6213-d4b9-4eb3-db91-3161e3fad6b7"
      },
      "execution_count": null,
      "outputs": [
        {
          "output_type": "stream",
          "name": "stdout",
          "text": [
            "Random Forest Classifier\n",
            "Accuracy: 0.9344978165938864\n",
            "Confusion Matrix:\n",
            "[[531.  18.]\n",
            " [ 42. 325.]]\n",
            "Precision: 0.9475218658892128\n",
            "Recall: 0.885558583106267\n",
            "F1 Score: 0.9154929577464789\n",
            "Total Misclassification Cost: 222.0\n",
            "AUC ROC: 0.9749482586620195\n"
          ]
        }
      ]
    },
    {
      "cell_type": "markdown",
      "source": [
        "# Feature Importance"
      ],
      "metadata": {
        "id": "GUY1GLQ69ayC"
      }
    },
    {
      "cell_type": "code",
      "source": [
        "# Extracting feature importances\n",
        "importances = rf_model.featureImportances\n",
        "\n",
        "# Converting feature importances to a list\n",
        "importances_list = importances.toArray()\n",
        "\n",
        "# Pair each feature name with its importance and sort them by importance in descending order\n",
        "feature_importance_pairs = sorted(zip(selected_features, importances_list), key=lambda x: x[1], reverse=True)\n",
        "\n",
        "top_20_features = feature_importance_pairs[:25]\n",
        "\n",
        "top_20_feature_names = [feature[0] for feature in top_20_features] + [\"is_spam\"]\n",
        "\n",
        "print(\"Top 25 important features:\")\n",
        "print(top_20_feature_names)\n",
        "\n",
        "top_features_data = df.select(*top_20_feature_names)\n",
        "\n",
        "top_features_data.show(5)\n"
      ],
      "metadata": {
        "colab": {
          "base_uri": "https://localhost:8080/"
        },
        "id": "1iQ44U68k6kH",
        "outputId": "4ea42e65-fd00-4408-a931-e5723ee366d2"
      },
      "execution_count": null,
      "outputs": [
        {
          "output_type": "stream",
          "name": "stdout",
          "text": [
            "Top 25 important features:\n",
            "['word_freq_remove', 'char_freq_!', 'char_freq_$', 'word_freq_free', 'word_freq_your', 'capital_run_length_average', 'capital_run_length_longest', 'word_freq_hp', 'word_freq_000', 'word_freq_money', 'capital_run_length_total', 'word_freq_hpl', 'word_freq_george', 'word_freq_all', 'word_freq_our', 'word_freq_you', 'word_freq_edu', 'word_freq_internet', 'word_freq_1999', 'word_freq_650', 'word_freq_labs', 'word_freq_85', 'word_freq_business', 'word_freq_over', 'word_freq_re', 'is_spam']\n",
            "+----------------+-----------+-----------+--------------+--------------+--------------------------+--------------------------+------------+-------------+---------------+------------------------+-------------+----------------+-------------+-------------+-------------+-------------+------------------+--------------+-------------+--------------+------------+------------------+--------------+------------+-------+\n",
            "|word_freq_remove|char_freq_!|char_freq_$|word_freq_free|word_freq_your|capital_run_length_average|capital_run_length_longest|word_freq_hp|word_freq_000|word_freq_money|capital_run_length_total|word_freq_hpl|word_freq_george|word_freq_all|word_freq_our|word_freq_you|word_freq_edu|word_freq_internet|word_freq_1999|word_freq_650|word_freq_labs|word_freq_85|word_freq_business|word_freq_over|word_freq_re|is_spam|\n",
            "+----------------+-----------+-----------+--------------+--------------+--------------------------+--------------------------+------------+-------------+---------------+------------------------+-------------+----------------+-------------+-------------+-------------+-------------+------------------+--------------+-------------+--------------+------------+------------------+--------------+------------+-------+\n",
            "|             0.0|      0.778|        0.0|          0.32|          0.96|                     3.756|                        61|         0.0|          0.0|            0.0|                     278|          0.0|             0.0|         0.64|         0.32|         1.93|          0.0|               0.0|           0.0|          0.0|           0.0|         0.0|               0.0|           0.0|         0.0|      1|\n",
            "|            0.21|      0.372|       0.18|          0.14|          1.59|                     5.114|                       101|         0.0|         0.43|           0.43|                    1028|          0.0|             0.0|          0.5|         0.14|         3.47|          0.0|              0.07|          0.07|          0.0|           0.0|         0.0|              0.07|          0.28|         0.0|      1|\n",
            "|            0.19|      0.276|      0.184|          0.06|          0.51|                     9.821|                       485|         0.0|         1.16|           0.06|                    2259|          0.0|             0.0|         0.71|         1.23|         1.36|         0.06|              0.12|           0.0|          0.0|           0.0|         0.0|              0.06|          0.19|        0.06|      1|\n",
            "|            0.31|      0.137|        0.0|          0.31|          0.31|                     3.537|                        40|         0.0|          0.0|            0.0|                     191|          0.0|             0.0|          0.0|         0.63|         3.18|          0.0|              0.63|           0.0|          0.0|           0.0|         0.0|               0.0|           0.0|         0.0|      1|\n",
            "|            0.31|      0.135|        0.0|          0.31|          0.31|                     3.537|                        40|         0.0|          0.0|            0.0|                     191|          0.0|             0.0|          0.0|         0.63|         3.18|          0.0|              0.63|           0.0|          0.0|           0.0|         0.0|               0.0|           0.0|         0.0|      1|\n",
            "+----------------+-----------+-----------+--------------+--------------+--------------------------+--------------------------+------------+-------------+---------------+------------------------+-------------+----------------+-------------+-------------+-------------+-------------+------------------+--------------+-------------+--------------+------------+------------------+--------------+------------+-------+\n",
            "only showing top 5 rows\n",
            "\n"
          ]
        }
      ]
    },
    {
      "cell_type": "code",
      "source": [],
      "metadata": {
        "id": "3RklJxMjlJFy"
      },
      "execution_count": null,
      "outputs": []
    },
    {
      "cell_type": "code",
      "source": [],
      "metadata": {
        "id": "ljDG69telJCe"
      },
      "execution_count": null,
      "outputs": []
    },
    {
      "cell_type": "code",
      "source": [],
      "metadata": {
        "id": "egHC19oe1mMC"
      },
      "execution_count": null,
      "outputs": []
    },
    {
      "cell_type": "markdown",
      "source": [
        "# PARAMETER TUNING"
      ],
      "metadata": {
        "id": "kJ9B00IF9hQI"
      }
    },
    {
      "cell_type": "code",
      "source": [
        "lr = LogisticRegression(labelCol=\"is_spam\", featuresCol=\"features\")\n",
        "\n",
        "evaluator = BinaryClassificationEvaluator(rawPredictionCol=\"rawPrediction\", labelCol=\"is_spam\", metricName=\"areaUnderROC\")\n",
        "\n",
        "paramGrid = ParamGridBuilder() \\\n",
        "    .addGrid(lr.regParam, [0.01, 0.1, 0.5]) \\\n",
        "    .addGrid(lr.elasticNetParam, [0.0, 0.5, 1.0]) \\\n",
        "    .addGrid(lr.maxIter, [10, 50, 100]) \\\n",
        "    .build()\n",
        "\n",
        "crossval = CrossValidator(estimator=lr,\n",
        "                          estimatorParamMaps=paramGrid,\n",
        "                          evaluator=evaluator,\n",
        "                          numFolds=3)\n",
        "\n",
        "cvModel = crossval.fit(train_data)\n",
        "\n",
        "bestModel = cvModel.bestModel\n",
        "\n",
        "test_predictions = bestModel.transform(test_data)\n",
        "\n",
        "evaluate_model(test_predictions)\n",
        "\n",
        "print(\"Best model parameters for Logistic Regression Classifier:\")\n",
        "print(f\"RegParam: {bestModel._java_obj.getRegParam()}\")\n",
        "print(f\"ElasticNetParam: {bestModel._java_obj.getElasticNetParam()}\")\n",
        "print(f\"MaxIter: {bestModel._java_obj.getMaxIter()}\")"
      ],
      "metadata": {
        "colab": {
          "base_uri": "https://localhost:8080/"
        },
        "id": "rn-4ngINNjTz",
        "outputId": "a8527ba7-da9d-4726-b8d8-c924d49d8153"
      },
      "execution_count": null,
      "outputs": [
        {
          "output_type": "stream",
          "name": "stdout",
          "text": [
            "Accuracy: 0.8992497320471597\n",
            "Confusion Matrix:\n",
            "[[537.  26.]\n",
            " [ 68. 302.]]\n",
            "Precision: 0.9207317073170732\n",
            "Recall: 0.8162162162162162\n",
            "F1 Score: 0.8653295128939827\n",
            "Total Misclassification Cost: 328.0\n",
            "AUC ROC: 0.9642359944313791\n",
            "Best model parameters for Logistic Regression Classifier:\n",
            "RegParam: 0.01\n",
            "ElasticNetParam: 0.0\n",
            "MaxIter: 50\n"
          ]
        }
      ]
    },
    {
      "cell_type": "code",
      "source": [],
      "metadata": {
        "id": "CVAsO4hwNjQ1"
      },
      "execution_count": null,
      "outputs": []
    },
    {
      "cell_type": "code",
      "source": [
        "svm = LinearSVC(labelCol=\"is_spam\", featuresCol=\"features\")\n",
        "\n",
        "\n",
        "evaluator = BinaryClassificationEvaluator(rawPredictionCol=\"prediction\", labelCol=\"is_spam\", metricName=\"areaUnderROC\")\n",
        "\n",
        "paramGrid = ParamGridBuilder() \\\n",
        "    .addGrid(svm.regParam, [0.01, 0.1, 0.5]) \\\n",
        "    .addGrid(svm.maxIter, [10, 100, 200]) \\\n",
        "    .build()\n",
        "\n",
        "crossval = CrossValidator(estimator=svm,\n",
        "                          estimatorParamMaps=paramGrid,\n",
        "                          evaluator=evaluator,\n",
        "                          numFolds=3)\n",
        "\n",
        "cvModel = crossval.fit(train_data)\n",
        "\n",
        "bestModel = cvModel.bestModel\n",
        "\n",
        "test_predictions = bestModel.transform(test_data)\n",
        "\n",
        "evaluate_model(test_predictions)\n",
        "\n",
        "print(\"Best model parameters for SVM Classifier:\")\n",
        "print(f\"RegParam: {bestModel._java_obj.getRegParam()}\")\n",
        "print(f\"MaxIter: {bestModel._java_obj.getMaxIter()}\")"
      ],
      "metadata": {
        "colab": {
          "base_uri": "https://localhost:8080/"
        },
        "id": "1-oPYkRVNjOH",
        "outputId": "03fdd7cc-7a78-4a43-86b1-cda44bf704cb"
      },
      "execution_count": null,
      "outputs": [
        {
          "output_type": "stream",
          "name": "stdout",
          "text": [
            "Accuracy: 0.9110396570203644\n",
            "Confusion Matrix:\n",
            "[[535.  28.]\n",
            " [ 55. 315.]]\n",
            "Precision: 0.9183673469387755\n",
            "Recall: 0.8513513513513513\n",
            "F1 Score: 0.8835904628330996\n",
            "Total Misclassification Cost: 335.0\n",
            "AUC ROC: 0.9695789928472013\n",
            "Best model parameters for SVM Classifier:\n",
            "RegParam: 0.01\n",
            "MaxIter: 100\n"
          ]
        }
      ]
    },
    {
      "cell_type": "code",
      "source": [],
      "metadata": {
        "id": "3ZSJjCyWNj08"
      },
      "execution_count": null,
      "outputs": []
    },
    {
      "cell_type": "code",
      "source": [
        "rf = RandomForestClassifier(labelCol=\"is_spam\", featuresCol=\"features\")\n",
        "\n",
        "evaluator = BinaryClassificationEvaluator(rawPredictionCol=\"rawPrediction\", labelCol=\"is_spam\", metricName=\"areaUnderROC\")\n",
        "\n",
        "paramGrid = ParamGridBuilder() \\\n",
        "    .addGrid(rf.numTrees, [10, 20, 50]) \\\n",
        "    .addGrid(rf.maxDepth, [5, 10, 20]) \\\n",
        "    .addGrid(rf.impurity, [\"gini\", \"entropy\"]) \\\n",
        "    .build()\n",
        "\n",
        "crossval = CrossValidator(estimator=rf,\n",
        "                          estimatorParamMaps=paramGrid,\n",
        "                          evaluator=evaluator,\n",
        "                          numFolds=3)\n",
        "\n",
        "cvModel = crossval.fit(train_data)\n",
        "\n",
        "bestModel = cvModel.bestModel\n",
        "\n",
        "test_predictions = bestModel.transform(test_data)\n",
        "\n",
        "evaluate_model(test_predictions)\n",
        "\n",
        "print(f\"Best model parameters for Random Forest Classifier:\")\n",
        "print(f\"Number of Trees: {bestModel.getNumTrees}\")\n",
        "print(f\"Max Depth: {bestModel.getOrDefault('maxDepth')}\")\n",
        "print(f\"Impurity: {bestModel.getOrDefault('impurity')}\")"
      ],
      "metadata": {
        "colab": {
          "base_uri": "https://localhost:8080/"
        },
        "id": "iBfNqaD01mON",
        "outputId": "5f64d910-6118-4e1c-dc1e-06ac9b5217c5"
      },
      "execution_count": null,
      "outputs": [
        {
          "output_type": "stream",
          "name": "stdout",
          "text": [
            "Accuracy: 0.9519650655021834\n",
            "Confusion Matrix:\n",
            "[[526.  23.]\n",
            " [ 21. 346.]]\n",
            "Precision: 0.9376693766937669\n",
            "Recall: 0.9427792915531336\n",
            "F1 Score: 0.940217391304348\n",
            "Total Misclassification Cost: 251.0\n",
            "AUC ROC: 0.9867557064367706\n",
            "Best model parameters for Random Forest Classifier:\n",
            "Number of Trees: 50\n",
            "Max Depth: 20\n",
            "Impurity: entropy\n"
          ]
        }
      ]
    },
    {
      "cell_type": "code",
      "source": [],
      "metadata": {
        "id": "iAYXlPGlgn9p"
      },
      "execution_count": null,
      "outputs": []
    }
  ]
}